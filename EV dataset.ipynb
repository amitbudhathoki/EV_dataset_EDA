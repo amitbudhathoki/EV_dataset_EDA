{
 "cells": [
  {
   "cell_type": "markdown",
   "id": "6cd443db-d3c7-4761-89de-052844e68c7f",
   "metadata": {},
   "source": [
    "# Description of dataset\r\n",
    "This dataset of electric cars from ev-database.org lists electric cars from around the world, their features, and their prices in both Germany and the UK. There are 11 columns and 180 rows of observations."
   ]
  },
  {
   "cell_type": "markdown",
   "id": "4bfaf00c-81c1-4678-b110-7c856407d2d1",
   "metadata": {},
   "source": [
    "# Data exploration plan\n",
    "1. Clean data and perform EDA\n",
    "2. Rank cars based on variables (Range, Efficiency, Battery Size, Top speed, charge speed)\n",
    "3. Statistics and hypothesis testing\n",
    "4. Regression model"
   ]
  },
  {
   "cell_type": "code",
   "execution_count": null,
   "id": "eacee46b-d513-4b81-8070-efb17f302a15",
   "metadata": {},
   "outputs": [],
   "source": []
  }
 ],
 "metadata": {
  "kernelspec": {
   "display_name": "Python 3 (ipykernel)",
   "language": "python",
   "name": "python3"
  },
  "language_info": {
   "codemirror_mode": {
    "name": "ipython",
    "version": 3
   },
   "file_extension": ".py",
   "mimetype": "text/x-python",
   "name": "python",
   "nbconvert_exporter": "python",
   "pygments_lexer": "ipython3",
   "version": "3.11.4"
  }
 },
 "nbformat": 4,
 "nbformat_minor": 5
}
