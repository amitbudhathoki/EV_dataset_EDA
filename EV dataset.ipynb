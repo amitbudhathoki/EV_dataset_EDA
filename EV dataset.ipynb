{
 "cells": [
  {
   "cell_type": "markdown",
   "id": "6cd443db-d3c7-4761-89de-052844e68c7f",
   "metadata": {},
   "source": [
    "# Description of dataset\r\n",
    "This dataset of electric cars from ev-database.org lists electric cars from around the world, their features, and their prices in both Germany and the UK. There are 11 columns and 180 rows of observations."
   ]
  },
  {
   "cell_type": "markdown",
   "id": "4bfaf00c-81c1-4678-b110-7c856407d2d1",
   "metadata": {},
   "source": [
    "# Data exploration plan\n",
    "1. Clean data and perform EDA\n",
    "2. Rank cars based on variables (Range, Efficiency, Battery Size, Top speed, charge speed)\n",
    "3. Statistics and hypothesis testing\n",
    "4. Regression model"
   ]
  },
  {
   "cell_type": "markdown",
   "id": "f2a7a51a-061d-4209-a0d5-4977a68e7a94",
   "metadata": {},
   "source": [
    "## 1. Cleaning and Exploring the data"
   ]
  },
  {
   "cell_type": "code",
   "execution_count": null,
   "id": "1daa3402-d3f3-46bc-a10e-5c97226563f7",
   "metadata": {},
   "outputs": [],
   "source": [
    "#loading packages\n",
    "\n",
    "import numpy as np \n",
    "import pandas as pd \n",
    "import seaborn as sns\n",
    "import matplotlib.pyplot as plt\n",
    "%matplotlib inline\n",
    "\n",
    "import scipy.stats as stats\n",
    "from scipy.stats import chi2_contingency\n",
    "\n",
    "from statsmodels.formula.api import ols\n",
    "from statsmodels.stats.anova import anova_lm\n",
    "\n",
    "pd.set_option(\"display.max_colwidth\",500)\n",
    "pd.set_option(\"display.max_rows\",500)\n"
   ]
  },
  {
   "cell_type": "code",
   "execution_count": null,
   "id": "0e712941-cc34-4df7-b6aa-5bdb3532d14c",
   "metadata": {},
   "outputs": [],
   "source": [
    "import warnings \n",
    "warnings.filterwarnings('ignore')"
   ]
  },
  {
   "cell_type": "code",
   "execution_count": null,
   "id": "18d0ead2-1d8a-455b-ade8-13b959f27034",
   "metadata": {},
   "outputs": [],
   "source": [
    "cars = pd.read_csv('../input/cheapest-electric-cars/Cheapestelectriccars-EVDatabase.csv')\n",
    "cars.head()"
   ]
  },
  {
   "cell_type": "code",
   "execution_count": null,
   "id": "aac7aa35-f009-4c34-859d-3d2a145cde16",
   "metadata": {},
   "outputs": [],
   "source": []
  }
 ],
 "metadata": {
  "kernelspec": {
   "display_name": "Python 3 (ipykernel)",
   "language": "python",
   "name": "python3"
  },
  "language_info": {
   "codemirror_mode": {
    "name": "ipython",
    "version": 3
   },
   "file_extension": ".py",
   "mimetype": "text/x-python",
   "name": "python",
   "nbconvert_exporter": "python",
   "pygments_lexer": "ipython3",
   "version": "3.11.4"
  }
 },
 "nbformat": 4,
 "nbformat_minor": 5
}
