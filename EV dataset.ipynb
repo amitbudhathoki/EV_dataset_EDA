{
 "cells": [
  {
   "cell_type": "markdown",
   "id": "6cd443db-d3c7-4761-89de-052844e68c7f",
   "metadata": {},
   "source": [
    "# Description of dataset\r\n",
    "This dataset of electric cars from ev-database.org lists electric cars from around the world, their features, and their prices in both Germany and the UK. There are 11 columns and 180 rows of observations."
   ]
  },
  {
   "cell_type": "markdown",
   "id": "4bfaf00c-81c1-4678-b110-7c856407d2d1",
   "metadata": {},
   "source": [
    "# Data exploration plan\n",
    "1. Clean data and perform EDA\n",
    "2. Rank cars based on variables (Range, Efficiency, Battery Size, Top speed, charge speed)\n",
    "3. Statistics and hypothesis testing\n",
    "4. Regression model"
   ]
  },
  {
   "cell_type": "markdown",
   "id": "f2a7a51a-061d-4209-a0d5-4977a68e7a94",
   "metadata": {},
   "source": [
    "## 1. Cleaning and Exploring the data"
   ]
  },
  {
   "cell_type": "code",
   "execution_count": 2,
   "id": "1daa3402-d3f3-46bc-a10e-5c97226563f7",
   "metadata": {},
   "outputs": [],
   "source": [
    "#loading packages\n",
    "\n",
    "import numpy as np \n",
    "import pandas as pd \n",
    "import seaborn as sns\n",
    "import matplotlib.pyplot as plt\n",
    "%matplotlib inline\n",
    "\n",
    "import scipy.stats as stats\n",
    "from scipy.stats import chi2_contingency\n",
    "\n",
    "from statsmodels.formula.api import ols\n",
    "from statsmodels.stats.anova import anova_lm\n",
    "\n",
    "pd.set_option(\"display.max_colwidth\",500)\n",
    "pd.set_option(\"display.max_rows\",500)\n"
   ]
  },
  {
   "cell_type": "code",
   "execution_count": 3,
   "id": "0e712941-cc34-4df7-b6aa-5bdb3532d14c",
   "metadata": {},
   "outputs": [],
   "source": [
    "import warnings \n",
    "warnings.filterwarnings('ignore')"
   ]
  },
  {
   "cell_type": "code",
   "execution_count": 5,
   "id": "18d0ead2-1d8a-455b-ade8-13b959f27034",
   "metadata": {},
   "outputs": [
    {
     "data": {
      "text/html": [
       "<div>\n",
       "<style scoped>\n",
       "    .dataframe tbody tr th:only-of-type {\n",
       "        vertical-align: middle;\n",
       "    }\n",
       "\n",
       "    .dataframe tbody tr th {\n",
       "        vertical-align: top;\n",
       "    }\n",
       "\n",
       "    .dataframe thead th {\n",
       "        text-align: right;\n",
       "    }\n",
       "</style>\n",
       "<table border=\"1\" class=\"dataframe\">\n",
       "  <thead>\n",
       "    <tr style=\"text-align: right;\">\n",
       "      <th></th>\n",
       "      <th>Name</th>\n",
       "      <th>Subtitle</th>\n",
       "      <th>Acceleration</th>\n",
       "      <th>TopSpeed</th>\n",
       "      <th>Range</th>\n",
       "      <th>Efficiency</th>\n",
       "      <th>FastChargeSpeed</th>\n",
       "      <th>Drive</th>\n",
       "      <th>NumberofSeats</th>\n",
       "      <th>PriceinGermany</th>\n",
       "      <th>PriceinUK</th>\n",
       "    </tr>\n",
       "  </thead>\n",
       "  <tbody>\n",
       "    <tr>\n",
       "      <th>0</th>\n",
       "      <td>Opel Ampera-e</td>\n",
       "      <td>Battery Electric Vehicle |       58 kWh</td>\n",
       "      <td>7.3 sec</td>\n",
       "      <td>150 km/h</td>\n",
       "      <td>335 km</td>\n",
       "      <td>173 Wh/km</td>\n",
       "      <td>210 km/h</td>\n",
       "      <td>Front Wheel Drive</td>\n",
       "      <td>5</td>\n",
       "      <td>€42,990</td>\n",
       "      <td>NaN</td>\n",
       "    </tr>\n",
       "    <tr>\n",
       "      <th>1</th>\n",
       "      <td>Renault Kangoo Maxi ZE 33</td>\n",
       "      <td>Battery Electric Vehicle |       31 kWh</td>\n",
       "      <td>22.4 sec</td>\n",
       "      <td>130 km/h</td>\n",
       "      <td>160 km</td>\n",
       "      <td>194 Wh/km</td>\n",
       "      <td>-</td>\n",
       "      <td>Front Wheel Drive</td>\n",
       "      <td>5</td>\n",
       "      <td>NaN</td>\n",
       "      <td>£31,680</td>\n",
       "    </tr>\n",
       "    <tr>\n",
       "      <th>2</th>\n",
       "      <td>Nissan Leaf</td>\n",
       "      <td>Battery Electric Vehicle |       36 kWh</td>\n",
       "      <td>7.9 sec</td>\n",
       "      <td>144 km/h</td>\n",
       "      <td>220 km</td>\n",
       "      <td>164 Wh/km</td>\n",
       "      <td>230 km/h</td>\n",
       "      <td>Front Wheel Drive</td>\n",
       "      <td>5</td>\n",
       "      <td>€29,990</td>\n",
       "      <td>£25,995</td>\n",
       "    </tr>\n",
       "    <tr>\n",
       "      <th>3</th>\n",
       "      <td>Audi e-tron Sportback 55 quattro</td>\n",
       "      <td>Battery Electric Vehicle |       86.5 kWh</td>\n",
       "      <td>5.7 sec</td>\n",
       "      <td>200 km/h</td>\n",
       "      <td>375 km</td>\n",
       "      <td>231 Wh/km</td>\n",
       "      <td>600 km/h</td>\n",
       "      <td>All Wheel Drive</td>\n",
       "      <td>5</td>\n",
       "      <td>NaN</td>\n",
       "      <td>£79,900</td>\n",
       "    </tr>\n",
       "    <tr>\n",
       "      <th>4</th>\n",
       "      <td>Porsche Taycan Turbo S</td>\n",
       "      <td>Battery Electric Vehicle |       83.7 kWh</td>\n",
       "      <td>2.8 sec</td>\n",
       "      <td>260 km/h</td>\n",
       "      <td>390 km</td>\n",
       "      <td>215 Wh/km</td>\n",
       "      <td>860 km/h</td>\n",
       "      <td>All Wheel Drive</td>\n",
       "      <td>4</td>\n",
       "      <td>€186,336</td>\n",
       "      <td>£138,830</td>\n",
       "    </tr>\n",
       "  </tbody>\n",
       "</table>\n",
       "</div>"
      ],
      "text/plain": [
       "                               Name  \\\n",
       "0                    Opel Ampera-e    \n",
       "1         Renault Kangoo Maxi ZE 33   \n",
       "2                      Nissan Leaf    \n",
       "3  Audi e-tron Sportback 55 quattro   \n",
       "4            Porsche Taycan Turbo S   \n",
       "\n",
       "                                    Subtitle Acceleration  TopSpeed   Range  \\\n",
       "0   Battery Electric Vehicle |       58 kWh       7.3 sec  150 km/h  335 km   \n",
       "1   Battery Electric Vehicle |       31 kWh      22.4 sec  130 km/h  160 km   \n",
       "2   Battery Electric Vehicle |       36 kWh       7.9 sec  144 km/h  220 km   \n",
       "3  Battery Electric Vehicle |       86.5 kWh      5.7 sec  200 km/h  375 km   \n",
       "4  Battery Electric Vehicle |       83.7 kWh      2.8 sec  260 km/h  390 km   \n",
       "\n",
       "  Efficiency FastChargeSpeed              Drive  NumberofSeats PriceinGermany  \\\n",
       "0  173 Wh/km        210 km/h  Front Wheel Drive              5        €42,990   \n",
       "1  194 Wh/km               -  Front Wheel Drive              5            NaN   \n",
       "2  164 Wh/km        230 km/h  Front Wheel Drive              5        €29,990   \n",
       "3  231 Wh/km        600 km/h    All Wheel Drive              5            NaN   \n",
       "4  215 Wh/km        860 km/h    All Wheel Drive              4       €186,336   \n",
       "\n",
       "  PriceinUK  \n",
       "0       NaN  \n",
       "1   £31,680  \n",
       "2   £25,995  \n",
       "3   £79,900  \n",
       "4  £138,830  "
      ]
     },
     "execution_count": 5,
     "metadata": {},
     "output_type": "execute_result"
    }
   ],
   "source": [
    "cars = pd.read_csv('../EV Data analysis/archive/Cheapestelectriccars-EVDatabase.csv')\n",
    "cars.head()"
   ]
  },
  {
   "cell_type": "code",
   "execution_count": 6,
   "id": "aac7aa35-f009-4c34-859d-3d2a145cde16",
   "metadata": {},
   "outputs": [
    {
     "data": {
      "text/plain": [
       "(180, 11)"
      ]
     },
     "execution_count": 6,
     "metadata": {},
     "output_type": "execute_result"
    }
   ],
   "source": [
    "cars.shape"
   ]
  },
  {
   "cell_type": "code",
   "execution_count": 7,
   "id": "06d1ac16-5414-47a9-a7a0-fd1b6f5bc9b7",
   "metadata": {},
   "outputs": [
    {
     "name": "stdout",
     "output_type": "stream",
     "text": [
      "<class 'pandas.core.frame.DataFrame'>\n",
      "RangeIndex: 180 entries, 0 to 179\n",
      "Data columns (total 11 columns):\n",
      " #   Column           Non-Null Count  Dtype \n",
      "---  ------           --------------  ----- \n",
      " 0   Name             180 non-null    object\n",
      " 1   Subtitle         180 non-null    object\n",
      " 2   Acceleration     180 non-null    object\n",
      " 3   TopSpeed         180 non-null    object\n",
      " 4   Range            180 non-null    object\n",
      " 5   Efficiency       180 non-null    object\n",
      " 6   FastChargeSpeed  180 non-null    object\n",
      " 7   Drive            180 non-null    object\n",
      " 8   NumberofSeats    180 non-null    int64 \n",
      " 9   PriceinGermany   168 non-null    object\n",
      " 10  PriceinUK        136 non-null    object\n",
      "dtypes: int64(1), object(10)\n",
      "memory usage: 15.6+ KB\n"
     ]
    }
   ],
   "source": [
    "cars.info()"
   ]
  },
  {
   "cell_type": "code",
   "execution_count": 8,
   "id": "54302f47-2cb0-4d9a-a215-e08168ab01ae",
   "metadata": {},
   "outputs": [
    {
     "data": {
      "text/html": [
       "<div>\n",
       "<style scoped>\n",
       "    .dataframe tbody tr th:only-of-type {\n",
       "        vertical-align: middle;\n",
       "    }\n",
       "\n",
       "    .dataframe tbody tr th {\n",
       "        vertical-align: top;\n",
       "    }\n",
       "\n",
       "    .dataframe thead th {\n",
       "        text-align: right;\n",
       "    }\n",
       "</style>\n",
       "<table border=\"1\" class=\"dataframe\">\n",
       "  <thead>\n",
       "    <tr style=\"text-align: right;\">\n",
       "      <th></th>\n",
       "      <th>NumberofSeats</th>\n",
       "    </tr>\n",
       "  </thead>\n",
       "  <tbody>\n",
       "    <tr>\n",
       "      <th>count</th>\n",
       "      <td>180.000000</td>\n",
       "    </tr>\n",
       "    <tr>\n",
       "      <th>mean</th>\n",
       "      <td>5.166667</td>\n",
       "    </tr>\n",
       "    <tr>\n",
       "      <th>std</th>\n",
       "      <td>0.971666</td>\n",
       "    </tr>\n",
       "    <tr>\n",
       "      <th>min</th>\n",
       "      <td>2.000000</td>\n",
       "    </tr>\n",
       "    <tr>\n",
       "      <th>25%</th>\n",
       "      <td>5.000000</td>\n",
       "    </tr>\n",
       "    <tr>\n",
       "      <th>50%</th>\n",
       "      <td>5.000000</td>\n",
       "    </tr>\n",
       "    <tr>\n",
       "      <th>75%</th>\n",
       "      <td>5.000000</td>\n",
       "    </tr>\n",
       "    <tr>\n",
       "      <th>max</th>\n",
       "      <td>7.000000</td>\n",
       "    </tr>\n",
       "  </tbody>\n",
       "</table>\n",
       "</div>"
      ],
      "text/plain": [
       "       NumberofSeats\n",
       "count     180.000000\n",
       "mean        5.166667\n",
       "std         0.971666\n",
       "min         2.000000\n",
       "25%         5.000000\n",
       "50%         5.000000\n",
       "75%         5.000000\n",
       "max         7.000000"
      ]
     },
     "execution_count": 8,
     "metadata": {},
     "output_type": "execute_result"
    }
   ],
   "source": [
    "cars.describe()"
   ]
  },
  {
   "cell_type": "code",
   "execution_count": null,
   "id": "530d6d49-6c10-4c78-b140-eaea52320ddf",
   "metadata": {},
   "outputs": [],
   "source": []
  }
 ],
 "metadata": {
  "kernelspec": {
   "display_name": "Python 3 (ipykernel)",
   "language": "python",
   "name": "python3"
  },
  "language_info": {
   "codemirror_mode": {
    "name": "ipython",
    "version": 3
   },
   "file_extension": ".py",
   "mimetype": "text/x-python",
   "name": "python",
   "nbconvert_exporter": "python",
   "pygments_lexer": "ipython3",
   "version": "3.11.4"
  }
 },
 "nbformat": 4,
 "nbformat_minor": 5
}
